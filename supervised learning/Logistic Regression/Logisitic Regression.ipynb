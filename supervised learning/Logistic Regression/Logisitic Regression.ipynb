{
 "cells": [
  {
   "cell_type": "markdown",
   "id": "7b2b47a0",
   "metadata": {},
   "source": [
    "---\n",
    "# Logisitic Regression\n",
    "---\n",
    "## Calculating Cost\n",
    "The cost function of logistic regression is \n",
    "\n",
    "$$\n",
    "c(\\theta) = \\begin{cases}\n",
    "    -log(\\hat{p}) \\text{ if y = 1}\\\\\n",
    "    -log(1-\\hat{p}) \\text{ if y = 0}\n",
    "\\end{cases}\n",
    "$$\n",
    "\n",
    "This cost function grows large as t approaches zero, so the cost will be large if a prediction differs from the true label, and is small when the prediction matched the true label. The cost function can be written as the average of each instance, as shown below:\n",
    "\n",
    "$\n",
    "J(\\theta) = -\\frac{1}{m}\\Sigma^m_{i=1}[y^ilog(\\hat{p}^i + (1-y^i)log(1-\\hat{p}^i)]\n",
    "$\n",
    "\n",
    "The function above is convex, so we can apply gradient descent to minimize the cost function and be guaranteed to find the global minimum -- assuming the learning rate is not too large and it is given enough time. The gradient, or partial derivative, is:\n",
    "\n",
    "$\n",
    "\\frac{\\partial}{\\partial\\theta_j} = \\frac{1}{m}\\Sigma^m_{i=1}(\\sigma(\\theta^Tx^i) - y^i)x^i_j\n",
    "$\n",
    "\n",
    "## Error Analysis\n",
    "After training the model, we will calculate the confusion matrix and F score to compare to the other models. The confusion matrix shows the predicted vs actual labels in an easily readable format. The F score is a ratio between the precision and recall.\n",
    "\n",
    "Precision is calculated using the equation:\n",
    "$\n",
    "precision = \\frac{true positives}{True Positives + False Positives}\n",
    "$\n",
    "\n",
    "Recall is calculated using the equation:\n",
    "$\n",
    "recall = \\frac{True Positives}{True Positives + False Negatives}\n",
    "$\n",
    "\n",
    "The F score is calculated using the equation:\n",
    "$\n",
    "F = \\frac{precision*recall}{precision + recall}\n",
    "$\n",
    "\n",
    "These metrics will allow us to easily compare the models.\n",
    "\n"
   ]
  },
  {
   "cell_type": "markdown",
   "id": "4d65b06a",
   "metadata": {},
   "source": [
    "## Logistic Regression\n",
    "\n",
    "Logistic regression is a type of regression analysis in statistics used for prediction of outcome of a categorical dependent variable from a set of predictor or independent variables. In logistic regression the dependent variable is always binary. If the estimated probability is greater than 50%, then the model predicts that the instance belongs to that class (called the positive class, labeled “1”), or else it predicts that it does not (i.e., it belongs to the negative class, labeled “0”). This makes it a binary classifier.\n",
    "\n",
    "\n",
    "\n"
   ]
  },
  {
   "cell_type": "markdown",
   "id": "98db81cb",
   "metadata": {},
   "source": [
    "### Estimating Probabilities\n",
    "\n",
    "Instead of outputting the result directly like the Linear Regression model does, it outputs the logistic of this result. \n",
    "$\\hat{p} = h_\\theta(x) = \\sigma(\\theta^T \\cdot x)$"
   ]
  },
  {
   "cell_type": "markdown",
   "id": "19ed5546",
   "metadata": {},
   "source": [
    "### The Sigmoid Activation Function\n",
    "\n",
    "We must first decide on an activation function before deciding on a cost/ loss function. For this purpose, we choose the sigmoid activation function:\n",
    "$$\\sigma(t) = \\frac{1}{1 + exp(-t)}$$\n",
    "\n",
    "The sigmoid function, denoted as $\\sigma(t)$ outputs a number between 0 and 1. This output is then used to predict if the an instance $x$ belongs to the specified class using\n",
    "\n",
    "$$\n",
    "\\hat{y} = \\begin{cases}\n",
    "    1 &\\text{if } \\hat{p} \\geq 0.5\\\\\n",
    "    0 &\\text{if } \\hat{p} \\lt 0.5\n",
    "\\end{cases}\n",
    "$$\n",
    "\n",
    "Notice that $\\sigma(t)$ < 0.5 when t < 0, and $\\sigma(t)$ ≥ 0.5 when t ≥ 0, so a Logistic Regression model predicts 1 if $\\theta^T \\cdot x$ is positive, and 0 if it is negative."
   ]
  },
  {
   "cell_type": "markdown",
   "id": "af55ffbd",
   "metadata": {},
   "source": [
    "### Cost Function\n",
    "\n",
    "The cost function of logistic regression is \n",
    "\n",
    "$$\n",
    "c(\\theta) = \\begin{cases}\n",
    "    -log(\\hat{p}) \\text{ if y = 1}\\\\\n",
    "    -log(1-\\hat{p}) \\text{ if y = 0}\n",
    "\\end{cases}\n",
    "$$\n",
    "\n",
    "It can be written in a single expression called the log loss:\n",
    "$$\n",
    "J(\\theta) = -\\frac{1}{m}\\Sigma^m_{i=1}[y^ilog(\\hat{p}^i + (1-y^i)log(1-\\hat{p}^i)]\n",
    "$$\n",
    " \n",
    " \n",
    "The objective of training is to set the parameter vector θ so that the model estimates high probabilities for positive instances (y = 1) and low probabilities for negative instances (y = 0).\n",
    "\n",
    "This cost function is convex, so Gradient Descent is guaranteed to find the global minimum. The partial derivatives of the cost function with regards to the $j^{th}$ model parameter $θ_j$ is given by\n",
    "$$\n",
    "\\frac{\\partial}{\\partial\\theta_j} = \\frac{1}{m}\\Sigma^m_{i=1}(\\sigma(\\theta^Tx^i) - y^i)x^i_j\n",
    "$$\n"
   ]
  },
  {
   "cell_type": "markdown",
   "id": "d43bdeb2",
   "metadata": {},
   "source": [
    "### Evaluation\n",
    "\n",
    "- Precision: measures how precise the predictions are.\n",
    "- Recall: ndicates what percentage of the classes we’re interested in were actually captured by the model.\n",
    "\n",
    "When evaluating models we want to visualize an ROC Curve. Illustrating the true positive rate against the false positive rate of our classifier. True positive rate is another name for recall.\n",
    "\n",
    "$$TPR = \\frac{TP}{TP+FN}$$\n",
    "False positive rates is the ratio of false positive predictions compared to all values that are actually negative.\n",
    "\n",
    "$$FPR = \\frac{FP}{FP+TN}$$\n",
    "\n",
    "If TPR is our y-axis and FPR is our x-axis, we want our ROC curve to hug the left side of our chart meaning higher the TPR the lower the FPR."
   ]
  },
  {
   "cell_type": "markdown",
   "id": "36918e32",
   "metadata": {},
   "source": [
    "---\n",
    "## Implementation\n",
    "\n",
    "### Data Preparation\n",
    "\n",
    "The dataset is from an ongoing cardiovascular study on residents of the town of Framingham, Massachusetts. The classification goal is to predict whether the patient has 10-year risk of future coronary heart disease (CHD).The dataset provides the patients’ information. It includes over 4,000 records and 15 attributes.\n",
    "\n",
    "Information on current medical condition\n",
    "- Tot Chol: total cholesterol level\n",
    "- Sys BP: systolic blood pressure\n",
    "- Dia BP: diastolic blood pressure\n",
    "- BMI: Body Mass Index\n",
    "- Heart Rate: heart rate - In medical research, variables such as heart rate though in fact discrete, yet are considered continuous because of large number of possible values.\n",
    "- Glucose: glucose level\n",
    "- Target variable to predict\n",
    "- TenYearCHD: 10 year risk of coronary heart disease (binary: “1:Yes”, “0:No”)"
   ]
  },
  {
   "cell_type": "markdown",
   "id": "93c002d6",
   "metadata": {},
   "source": [
    "### Import library"
   ]
  },
  {
   "cell_type": "code",
   "execution_count": 5,
   "id": "4b08cded",
   "metadata": {},
   "outputs": [],
   "source": [
    "\n",
    "import numpy as np\n",
    "import pandas as pd\n",
    "import matplotlib.pyplot as plt\n",
    "\n",
    "from sklearn.model_selection import train_test_split\n",
    "from sklearn.linear_model import LogisticRegression \n",
    "from sklearn.metrics import ConfusionMatrixDisplay\n",
    "from sklearn.metrics import f1_score\n",
    "from sklearn.metrics import classification_report\n",
    "from sklearn.metrics import roc_curve, auc"
   ]
  },
  {
   "cell_type": "markdown",
   "id": "5e6f2851",
   "metadata": {},
   "source": [
    "### 1. Importing Dataset and Cleaning"
   ]
  },
  {
   "cell_type": "code",
   "execution_count": 2,
   "id": "9338b14c",
   "metadata": {},
   "outputs": [
    {
     "data": {
      "text/html": [
       "<div>\n",
       "<style scoped>\n",
       "    .dataframe tbody tr th:only-of-type {\n",
       "        vertical-align: middle;\n",
       "    }\n",
       "\n",
       "    .dataframe tbody tr th {\n",
       "        vertical-align: top;\n",
       "    }\n",
       "\n",
       "    .dataframe thead th {\n",
       "        text-align: right;\n",
       "    }\n",
       "</style>\n",
       "<table border=\"1\" class=\"dataframe\">\n",
       "  <thead>\n",
       "    <tr style=\"text-align: right;\">\n",
       "      <th></th>\n",
       "      <th>male</th>\n",
       "      <th>age</th>\n",
       "      <th>education</th>\n",
       "      <th>currentSmoker</th>\n",
       "      <th>cigsPerDay</th>\n",
       "      <th>BPMeds</th>\n",
       "      <th>prevalentStroke</th>\n",
       "      <th>prevalentHyp</th>\n",
       "      <th>diabetes</th>\n",
       "      <th>totChol</th>\n",
       "      <th>sysBP</th>\n",
       "      <th>diaBP</th>\n",
       "      <th>BMI</th>\n",
       "      <th>heartRate</th>\n",
       "      <th>glucose</th>\n",
       "      <th>TenYearCHD</th>\n",
       "    </tr>\n",
       "  </thead>\n",
       "  <tbody>\n",
       "    <tr>\n",
       "      <th>0</th>\n",
       "      <td>1</td>\n",
       "      <td>39</td>\n",
       "      <td>4.0</td>\n",
       "      <td>0</td>\n",
       "      <td>0.0</td>\n",
       "      <td>0.0</td>\n",
       "      <td>0</td>\n",
       "      <td>0</td>\n",
       "      <td>0</td>\n",
       "      <td>195.0</td>\n",
       "      <td>106.0</td>\n",
       "      <td>70.0</td>\n",
       "      <td>26.97</td>\n",
       "      <td>80.0</td>\n",
       "      <td>77.0</td>\n",
       "      <td>0</td>\n",
       "    </tr>\n",
       "    <tr>\n",
       "      <th>1</th>\n",
       "      <td>0</td>\n",
       "      <td>46</td>\n",
       "      <td>2.0</td>\n",
       "      <td>0</td>\n",
       "      <td>0.0</td>\n",
       "      <td>0.0</td>\n",
       "      <td>0</td>\n",
       "      <td>0</td>\n",
       "      <td>0</td>\n",
       "      <td>250.0</td>\n",
       "      <td>121.0</td>\n",
       "      <td>81.0</td>\n",
       "      <td>28.73</td>\n",
       "      <td>95.0</td>\n",
       "      <td>76.0</td>\n",
       "      <td>0</td>\n",
       "    </tr>\n",
       "    <tr>\n",
       "      <th>2</th>\n",
       "      <td>1</td>\n",
       "      <td>48</td>\n",
       "      <td>1.0</td>\n",
       "      <td>1</td>\n",
       "      <td>20.0</td>\n",
       "      <td>0.0</td>\n",
       "      <td>0</td>\n",
       "      <td>0</td>\n",
       "      <td>0</td>\n",
       "      <td>245.0</td>\n",
       "      <td>127.5</td>\n",
       "      <td>80.0</td>\n",
       "      <td>25.34</td>\n",
       "      <td>75.0</td>\n",
       "      <td>70.0</td>\n",
       "      <td>0</td>\n",
       "    </tr>\n",
       "    <tr>\n",
       "      <th>3</th>\n",
       "      <td>0</td>\n",
       "      <td>61</td>\n",
       "      <td>3.0</td>\n",
       "      <td>1</td>\n",
       "      <td>30.0</td>\n",
       "      <td>0.0</td>\n",
       "      <td>0</td>\n",
       "      <td>1</td>\n",
       "      <td>0</td>\n",
       "      <td>225.0</td>\n",
       "      <td>150.0</td>\n",
       "      <td>95.0</td>\n",
       "      <td>28.58</td>\n",
       "      <td>65.0</td>\n",
       "      <td>103.0</td>\n",
       "      <td>1</td>\n",
       "    </tr>\n",
       "    <tr>\n",
       "      <th>4</th>\n",
       "      <td>0</td>\n",
       "      <td>46</td>\n",
       "      <td>3.0</td>\n",
       "      <td>1</td>\n",
       "      <td>23.0</td>\n",
       "      <td>0.0</td>\n",
       "      <td>0</td>\n",
       "      <td>0</td>\n",
       "      <td>0</td>\n",
       "      <td>285.0</td>\n",
       "      <td>130.0</td>\n",
       "      <td>84.0</td>\n",
       "      <td>23.10</td>\n",
       "      <td>85.0</td>\n",
       "      <td>85.0</td>\n",
       "      <td>0</td>\n",
       "    </tr>\n",
       "  </tbody>\n",
       "</table>\n",
       "</div>"
      ],
      "text/plain": [
       "   male  age  education  currentSmoker  cigsPerDay  BPMeds  prevalentStroke  \\\n",
       "0     1   39        4.0              0         0.0     0.0                0   \n",
       "1     0   46        2.0              0         0.0     0.0                0   \n",
       "2     1   48        1.0              1        20.0     0.0                0   \n",
       "3     0   61        3.0              1        30.0     0.0                0   \n",
       "4     0   46        3.0              1        23.0     0.0                0   \n",
       "\n",
       "   prevalentHyp  diabetes  totChol  sysBP  diaBP    BMI  heartRate  glucose  \\\n",
       "0             0         0    195.0  106.0   70.0  26.97       80.0     77.0   \n",
       "1             0         0    250.0  121.0   81.0  28.73       95.0     76.0   \n",
       "2             0         0    245.0  127.5   80.0  25.34       75.0     70.0   \n",
       "3             1         0    225.0  150.0   95.0  28.58       65.0    103.0   \n",
       "4             0         0    285.0  130.0   84.0  23.10       85.0     85.0   \n",
       "\n",
       "   TenYearCHD  \n",
       "0           0  \n",
       "1           0  \n",
       "2           0  \n",
       "3           1  \n",
       "4           0  "
      ]
     },
     "execution_count": 2,
     "metadata": {},
     "output_type": "execute_result"
    }
   ],
   "source": [
    "df = pd.read_csv('/Users/yihanhong/Desktop/577/dataset/lgrg_heart.csv')\n",
    "df.dropna(axis=0, inplace=True)\n",
    "X=df.iloc[:,:-1].values\n",
    "y=df.iloc[:,-1].values\n",
    "df.head()"
   ]
  },
  {
   "cell_type": "markdown",
   "id": "32b3c4e9",
   "metadata": {},
   "source": [
    "Above is the results of our cleaning. \n",
    "\n",
    "---\n",
    "Next, we need to shuffle and split the data, train and test our model, then view the metrics. Using sci-kit learn, this process becomes incredible simple. The [scikit-learn website](https://scikit-learn.org/stable/) provides a model, a data shuffle and split method, and convenient methods to display the confusion matrix and f score. \n",
    "\n",
    "### 2. Train the model\n",
    "Next, we will create a logistic regression model using sci-kit learn's LogisticRegression module and fit the data to the model. In order to train a better performance, we scale the data."
   ]
  },
  {
   "cell_type": "code",
   "execution_count": 6,
   "id": "abdce411",
   "metadata": {},
   "outputs": [
    {
     "data": {
      "text/plain": [
       "LogisticRegression()"
      ]
     },
     "execution_count": 6,
     "metadata": {},
     "output_type": "execute_result"
    }
   ],
   "source": [
    "# Split data\n",
    "X_train, X_test, y_train, y_test = train_test_split(X,y,test_size=0.30,random_state=42)\n",
    "# scaling\n",
    "from sklearn.preprocessing import StandardScaler\n",
    "sc=StandardScaler()\n",
    "X_train = sc.fit_transform(X_train)\n",
    "X_test = sc.transform(X_test)\n",
    "\n",
    "model = LogisticRegression(penalty='l2')\n",
    "model.fit(X_train, y_train)"
   ]
  },
  {
   "cell_type": "markdown",
   "id": "d35b70f2",
   "metadata": {},
   "source": [
    "### 3. Model Performance\n",
    "\n",
    "**ROC curve**\n",
    "An ROC curve (receiver operating characteristic curve) is a graph showing the performance of a classification model at all classification thresholds."
   ]
  },
  {
   "cell_type": "code",
   "execution_count": 7,
   "id": "40f5e866",
   "metadata": {},
   "outputs": [],
   "source": [
    "\n",
    "y_train_score = model.decision_function(X_train)\n",
    "# Calculate the fpr, tpr, and thresholds for the training set\n",
    "train_fpr, train_tpr, thresholds = roc_curve(y_train, y_train_score)\n",
    "\n",
    "#Calculate the probability scores of each point in the test set\n",
    "y_test_score = model.decision_function(X_test)\n",
    "\n",
    "test_fpr, test_tpr, test_thresholds = roc_curve(y_test, y_test_score)"
   ]
  },
  {
   "cell_type": "code",
   "execution_count": 8,
   "id": "df692d26",
   "metadata": {},
   "outputs": [
    {
     "data": {
      "text/plain": [
       "[<matplotlib.lines.Line2D at 0x7fece803d8b0>]"
      ]
     },
     "execution_count": 8,
     "metadata": {},
     "output_type": "execute_result"
    },
    {
     "data": {
      "image/png": "[encoded data removed]",
      "text/plain": [
       "<Figure size 432x288 with 1 Axes>"
      ]
     },
     "metadata": {
      "needs_background": "light"
     },
     "output_type": "display_data"
    }
   ],
   "source": [
    "plt.plot(test_fpr, test_tpr, color='darkorange',  label='ROC curve')"
   ]
  },
  {
   "cell_type": "markdown",
   "id": "125515a7",
   "metadata": {},
   "source": [
    "A model that performs well at distinguishing positive and negative instances will have a ROC curve that is closer to the top-left corner of the plot, where the TPR is high and the FPR is low. A model that performs poorly will have a ROC curve that is closer to the diagonal line, where the TPR is equal to the FPR.\n",
    "\n",
    "From this plot, the model performance is good.\n",
    "\n",
    "---\n",
    "**Confusion Matrix**\n",
    "\n",
    "A confusion matrix represents the prediction summary in matrix form."
   ]
  },
  {
   "cell_type": "code",
   "execution_count": 9,
   "id": "0dcb15f9",
   "metadata": {},
   "outputs": [
    {
     "name": "stdout",
     "output_type": "stream",
     "text": [
      "Model F1 Score: 0.17\n",
      "              precision    recall  f1-score   support\n",
      "\n",
      "           0       0.85      0.99      0.92       923\n",
      "           1       0.61      0.10      0.17       174\n",
      "\n",
      "    accuracy                           0.85      1097\n",
      "   macro avg       0.73      0.54      0.54      1097\n",
      "weighted avg       0.81      0.85      0.80      1097\n",
      "\n"
     ]
    },
    {
     "data": {
      "image/png": "[encoded data removed]",
      "text/plain": [
       "<Figure size 1440x720 with 2 Axes>"
      ]
     },
     "metadata": {
      "needs_background": "light"
     },
     "output_type": "display_data"
    }
   ],
   "source": [
    "y_hat = model.predict(X_test)\n",
    "print(f\"Model F1 Score: {np.round(f1_score(y_test, y_hat),2)}\")\n",
    "\n",
    "labels = ['test1', 'test2']\n",
    "displabels = ['Negative', 'Positive']\n",
    "\n",
    "fig, ax = plt.subplots(1,1, figsize = (20,10))\n",
    "ax.set_title('Logistic Regression Model Performance\\n', fontsize = 25)\n",
    "ConfusionMatrixDisplay.from_predictions(y_test, y_hat, display_labels = displabels, cmap = 'magma', colorbar=True, ax=ax)\n",
    "\n",
    "print(classification_report(y_test, y_hat))"
   ]
  },
  {
   "cell_type": "markdown",
   "id": "11677856",
   "metadata": {},
   "source": [
    "Most of the samples are classified into the right category"
   ]
  }
 ],
 "metadata": {
  "kernelspec": {
   "display_name": "Python 3 (ipykernel)",
   "language": "python",
   "name": "python3"
  },
  "language_info": {
   "codemirror_mode": {
    "name": "ipython",
    "version": 3
   },
   "file_extension": ".py",
   "mimetype": "text/x-python",
   "name": "python",
   "nbconvert_exporter": "python",
   "pygments_lexer": "ipython3",
   "version": "3.9.12"
  }
 },
 "nbformat": 4,
 "nbformat_minor": 5
}
