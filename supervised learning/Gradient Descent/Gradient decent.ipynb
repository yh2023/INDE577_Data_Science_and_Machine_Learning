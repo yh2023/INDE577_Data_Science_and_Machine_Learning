{
 "cells": [
  {
   "cell_type": "markdown",
   "id": "5b01b2c3",
   "metadata": {},
   "source": [
    "---\n",
    "## The idea of gradient decent\n",
    "---\n",
    "Gradient Descent is a very generic optimization algorithm capable of finding optimal solutions to a wide range of problems. The general idea of Gradient Descent is to tweak parameters iteratively in order to minimize a cost function.\n",
    "Suppose you are lost in the mountains in a dense fog; you can only feel the slope of the ground below your feet. A good strategy to get to the bottom of the valley quickly is to go downhill in the direction of the steepest slope. This is exactly what Gradient Descent does: it measures the local gradient of the error function with regards to the parameter vector θ, and it goes in the direction of descending gradient. Once the gradient is zero, you have reached a minimum!\n",
    "Concretely, you start by filling θ with random values (this is called random initializa‐ tion), and then you improve it gradually, taking one baby step at a time, each step attempting to decrease the cost function (e.g., the MSE), until the algorithm converges to a minimum.\n",
    "\n",
    "An important parameter in Gradient Descent is the size of the steps, determined by the learning rate hyperparameter. If the learning rate is too small, then the algorithm will have to go through many iterations to converge, which will take a long time. On the other hand, if the learning rate is too high, you might jump across the valley and end up on the other side, possibly even higher up than you were before. This might make the algorithm diverge, with larger and larger values, failing to find a good solution. Finally, not all cost functions look like nice regular bowls. There may be holes, ridges, plateaus, and all sorts of irregular terrains, making convergence to the minimum very difficult. Figure 4-6 shows the two main challenges with Gradient Descent: if the random initialization starts the algorithm on the left, then it will converge to a local mini‐ mum, which is not as good as the global minimum. If it starts on the right, then it will take a very long time to cross the plateau, and if you stop too early you will never reach the global minimum.\n",
    "\n"
   ]
  },
  {
   "cell_type": "markdown",
   "id": "f4b323a6",
   "metadata": {},
   "source": [
    "### Batch Gradient Descent\n",
    "To implement Gradient Descent, you need to compute the gradient of the cost function with regards to each model parameter $\\theta_j$.\n",
    "\n",
    "- **Gradient vector of the cost function**\n",
    "$$ \\nabla_\\theta MSE(\\theta)  = \\frac{2}{m} X^T\\cdot \\left( X\\cdot\\theta - y \\right) $$\n",
    "\n",
    "Once having the gradient vector, we can decide the next step as the following equation.\n",
    "\n",
    "- **Gradient Descent step**\n",
    "$$ \\theta^{(next \\space step)} = \\theta−\\eta \\nabla_\\theta MSE(\\theta) ,$$\n",
    "where $\\eta$ is the learning rate.\n"
   ]
  },
  {
   "cell_type": "markdown",
   "id": "c0d14994",
   "metadata": {},
   "source": [
    "### Import library"
   ]
  },
  {
   "cell_type": "code",
   "execution_count": 1,
   "id": "2d531408",
   "metadata": {},
   "outputs": [],
   "source": [
    "import numpy as np\n",
    "import pandas as pd\n",
    "import matplotlib.pyplot as plt\n",
    "\n",
    "from sklearn.preprocessing import LabelEncoder\n",
    "from sklearn.model_selection import train_test_split\n",
    "from sklearn.linear_model import SGDRegressor\n",
    "from sklearn.metrics import mean_squared_error\n",
    "\n",
    "import warnings\n",
    "warnings.filterwarnings('ignore')\n",
    "\n"
   ]
  },
  {
   "cell_type": "markdown",
   "id": "3720d85f",
   "metadata": {},
   "source": [
    "### Data Analysis"
   ]
  },
  {
   "cell_type": "code",
   "execution_count": 2,
   "id": "7900e730",
   "metadata": {},
   "outputs": [
    {
     "data": {
      "text/html": [
       "<div>\n",
       "<style scoped>\n",
       "    .dataframe tbody tr th:only-of-type {\n",
       "        vertical-align: middle;\n",
       "    }\n",
       "\n",
       "    .dataframe tbody tr th {\n",
       "        vertical-align: top;\n",
       "    }\n",
       "\n",
       "    .dataframe thead th {\n",
       "        text-align: right;\n",
       "    }\n",
       "</style>\n",
       "<table border=\"1\" class=\"dataframe\">\n",
       "  <thead>\n",
       "    <tr style=\"text-align: right;\">\n",
       "      <th></th>\n",
       "      <th>age</th>\n",
       "      <th>sex</th>\n",
       "      <th>bmi</th>\n",
       "      <th>children</th>\n",
       "      <th>smoker</th>\n",
       "      <th>region</th>\n",
       "      <th>charges</th>\n",
       "    </tr>\n",
       "  </thead>\n",
       "  <tbody>\n",
       "    <tr>\n",
       "      <th>0</th>\n",
       "      <td>19</td>\n",
       "      <td>female</td>\n",
       "      <td>27.900</td>\n",
       "      <td>0</td>\n",
       "      <td>yes</td>\n",
       "      <td>southwest</td>\n",
       "      <td>16884.92400</td>\n",
       "    </tr>\n",
       "    <tr>\n",
       "      <th>1</th>\n",
       "      <td>18</td>\n",
       "      <td>male</td>\n",
       "      <td>33.770</td>\n",
       "      <td>1</td>\n",
       "      <td>no</td>\n",
       "      <td>southeast</td>\n",
       "      <td>1725.55230</td>\n",
       "    </tr>\n",
       "    <tr>\n",
       "      <th>2</th>\n",
       "      <td>28</td>\n",
       "      <td>male</td>\n",
       "      <td>33.000</td>\n",
       "      <td>3</td>\n",
       "      <td>no</td>\n",
       "      <td>southeast</td>\n",
       "      <td>4449.46200</td>\n",
       "    </tr>\n",
       "    <tr>\n",
       "      <th>3</th>\n",
       "      <td>33</td>\n",
       "      <td>male</td>\n",
       "      <td>22.705</td>\n",
       "      <td>0</td>\n",
       "      <td>no</td>\n",
       "      <td>northwest</td>\n",
       "      <td>21984.47061</td>\n",
       "    </tr>\n",
       "    <tr>\n",
       "      <th>4</th>\n",
       "      <td>32</td>\n",
       "      <td>male</td>\n",
       "      <td>28.880</td>\n",
       "      <td>0</td>\n",
       "      <td>no</td>\n",
       "      <td>northwest</td>\n",
       "      <td>3866.85520</td>\n",
       "    </tr>\n",
       "  </tbody>\n",
       "</table>\n",
       "</div>"
      ],
      "text/plain": [
       "   age     sex     bmi  children smoker     region      charges\n",
       "0   19  female  27.900         0    yes  southwest  16884.92400\n",
       "1   18    male  33.770         1     no  southeast   1725.55230\n",
       "2   28    male  33.000         3     no  southeast   4449.46200\n",
       "3   33    male  22.705         0     no  northwest  21984.47061\n",
       "4   32    male  28.880         0     no  northwest   3866.85520"
      ]
     },
     "execution_count": 2,
     "metadata": {},
     "output_type": "execute_result"
    }
   ],
   "source": [
    "df = pd.read_csv('/Users/yihanhong/Desktop/577/dataset/LR_insurance.csv')\n",
    "df.head()"
   ]
  },
  {
   "cell_type": "markdown",
   "id": "9cb22207",
   "metadata": {},
   "source": [
    "### Data Preprocessing"
   ]
  },
  {
   "cell_type": "code",
   "execution_count": 3,
   "id": "4cd5c6b1",
   "metadata": {},
   "outputs": [
    {
     "data": {
      "text/plain": [
       "array([[ 1., 19.,  0., ...,  0.,  1.,  3.],\n",
       "       [ 1., 18.,  1., ...,  1.,  0.,  2.],\n",
       "       [ 1., 28.,  1., ...,  3.,  0.,  2.],\n",
       "       ...,\n",
       "       [ 1., 18.,  0., ...,  0.,  0.,  2.],\n",
       "       [ 1., 21.,  0., ...,  0.,  0.,  3.],\n",
       "       [ 1., 61.,  0., ...,  0.,  1.,  1.]])"
      ]
     },
     "execution_count": 3,
     "metadata": {},
     "output_type": "execute_result"
    }
   ],
   "source": [
    "df[['sex', 'smoker', 'region']] = df[['sex', 'smoker', 'region']].astype('category')\n",
    "\n",
    "label = LabelEncoder()\n",
    "label.fit(df.sex.drop_duplicates())\n",
    "df.sex = label.transform(df.sex)\n",
    "label.fit(df.smoker.drop_duplicates())\n",
    "df.smoker = label.transform(df.smoker)\n",
    "label.fit(df.region.drop_duplicates())\n",
    "df.region = label.transform(df.region)\n",
    "\n",
    "X = df.drop(['charges'], axis = 1)\n",
    "y = df['charges']\n",
    "y = y.to_numpy().reshape((1338, 1)) \n",
    "\n",
    "X_b = np.c_[np.ones((1338, 1)), X]\n",
    "X_b"
   ]
  },
  {
   "cell_type": "code",
   "execution_count": 4,
   "id": "270f63de",
   "metadata": {},
   "outputs": [
    {
     "name": "stdout",
     "output_type": "stream",
     "text": [
      "Local minimum occurs at: [[-2.46706751e+285]\n",
      " [-1.04867069e+287]\n",
      " [-1.24488064e+285]\n",
      " [-7.71130326e+286]\n",
      " [-2.73419272e+285]\n",
      " [-4.99871066e+284]\n",
      " [-3.77351893e+285]]\n",
      "iteration: 99\n"
     ]
    }
   ],
   "source": [
    "eta = 0.01 # learning rate \n",
    "n_iterations = 100 \n",
    "m=100\n",
    "\n",
    "theta = np.random.randn(np.shape(X_b)[1],1) # random initialization\n",
    "\n",
    "for iteration in range(n_iterations):\n",
    "    gradients = 2/m * X_b.T.dot(X_b.dot(theta) - y )\n",
    "    theta = theta - eta * gradients\n",
    "    \n",
    "theta\n",
    "print(\"Local minimum occurs at:\", theta)\n",
    "print(\"iteration:\", iteration)\n"
   ]
  },
  {
   "cell_type": "markdown",
   "id": "36499052",
   "metadata": {},
   "source": [
    "Batch Gradient Descent uses the entire training set to compute the gradients at every step, which makes it slow when dealing with large datasets. "
   ]
  },
  {
   "cell_type": "markdown",
   "id": "bd154b6c",
   "metadata": {},
   "source": [
    "## Perform three different models\n",
    "---\n",
    "### Stochastic Gradient Descent\n",
    "\n",
    "Stochastic Gradient Descent(SGD), which is an optimization algorithm used for minimizing the cost function in machine learning. It is a variant of gradient descent that updates the parameters based on the gradient computed from a single random training instance, rather than using the whole training set.\n",
    "\n",
    "It is much faster than Batch Gradient Descent and can handle large datasets with limited memory. Additionally, it has a better chance of finding the global minimum and escaping local optima due to its stochastic nature.\n",
    "\n",
    "$$ \\theta^{(next \\space step)} = \\theta−\\eta \\nabla_\\theta MSE'(\\theta) $$\n",
    "\n",
    "**Split the data into training and test sets**"
   ]
  },
  {
   "cell_type": "code",
   "execution_count": 5,
   "id": "8566aceb",
   "metadata": {},
   "outputs": [],
   "source": [
    "X_train, X_test, y_train, y_test = train_test_split(X, y, test_size=0.3, random_state=42)\n",
    "\n",
    "# Initialize the SGDRegressor model\n",
    "sgd = SGDRegressor(max_iter=1000, tol=1e-3)\n",
    "\n",
    "# Fit the model to the training data\n",
    "sgd.fit(X_train, y_train)\n",
    "\n",
    "# Predict the output for the test data\n",
    "y_pred = sgd.predict(X_test)\n"
   ]
  },
  {
   "cell_type": "markdown",
   "id": "28431707",
   "metadata": {},
   "source": [
    "A lowe MSE indicates better performance."
   ]
  },
  {
   "cell_type": "code",
   "execution_count": 6,
   "id": "620bf9a3",
   "metadata": {},
   "outputs": [
    {
     "name": "stdout",
     "output_type": "stream",
     "text": [
      "Coefficients:  [ 3.09458510e+09  8.84534625e+09 -5.49542021e+09  1.19552645e+09\n",
      " -8.57775394e+08 -1.49085095e+09]\n",
      "Intercept:  [3.55283739e+09]\n"
     ]
    }
   ],
   "source": [
    "# Print the coefficients and intercept\n",
    "print(\"Coefficients: \", sgd.coef_)\n",
    "print(\"Intercept: \", sgd.intercept_)\n"
   ]
  },
  {
   "cell_type": "markdown",
   "id": "56dcac8c",
   "metadata": {},
   "source": [
    "The coefficients of the linear regression model, which give the weights assigned to each feature in predicting the output.\n",
    "\n",
    "The intercept of the linear regression model, which represents the value of the output when all features are set to zero."
   ]
  },
  {
   "cell_type": "markdown",
   "id": "7c542744",
   "metadata": {},
   "source": [
    "**Plot actual vs predicted values**"
   ]
  },
  {
   "cell_type": "code",
   "execution_count": 7,
   "id": "c0f83ae7",
   "metadata": {},
   "outputs": [
    {
     "data": {
      "image/png": "[encoded data removed]",
      "text/plain": [
       "<Figure size 432x288 with 1 Axes>"
      ]
     },
     "metadata": {
      "needs_background": "light"
     },
     "output_type": "display_data"
    }
   ],
   "source": [
    "\n",
    "plt.scatter(y_test, y_pred)\n",
    "plt.xlabel(\"Actual values\")\n",
    "plt.ylabel(\"Predicted values\")\n",
    "plt.title(\"Actual vs predicted values\")\n",
    "plt.show()\n"
   ]
  },
  {
   "cell_type": "markdown",
   "id": "a2a5d1d6",
   "metadata": {},
   "source": [
    "A scatter plot of the actual vs predicted values, which can be useful for visually inspecting how well the model is performing."
   ]
  },
  {
   "cell_type": "markdown",
   "id": "46b9f90a",
   "metadata": {},
   "source": [
    "### Mini-batch Gradient Descent\n",
    "\n",
    "Mini-batch gradient descent is a hybrid approach that leverages the advantages of both batch gradient descent and stochastic gradient descent. It randomly selects a subset of feature vectors, typically of a pre-defined length n, and calculates the gradient based on this mini-batch. By doing so, it strikes a balance between the chaos of using only one feature vector for gradient computation and the excessive computational burden of using the entire dataset. Consequently, mini-batch gradient descent enhances efficiency and reduces computational complexity.\n"
   ]
  },
  {
   "cell_type": "code",
   "execution_count": 8,
   "id": "ca443ba7",
   "metadata": {},
   "outputs": [
    {
     "name": "stdout",
     "output_type": "stream",
     "text": [
      "Mean squared error:  2.6012809872092293e+18\n"
     ]
    }
   ],
   "source": [
    "# Initialize the SGDRegressor model with mini-batch gradient descent\n",
    "sgd_mini = SGDRegressor(max_iter=1000, tol=1e-3, learning_rate='invscaling', eta0=0.01)\n",
    "sgd_mini.fit(X_train, y_train)\n",
    "y_pred_mini = sgd_mini.predict(X_test)\n",
    "\n",
    "mse_mini = mean_squared_error(y_test, y_pred_mini)\n",
    "print(\"Mean squared error: \", mse_mini)\n"
   ]
  },
  {
   "cell_type": "markdown",
   "id": "59c9e03e",
   "metadata": {},
   "source": [
    "Compare the mse of mini-batch gradient descent with Stochastic Gradient Descent, Stochastic Gradient Descent fit the model better."
   ]
  }
 ],
 "metadata": {
  "kernelspec": {
   "display_name": "Python 3 (ipykernel)",
   "language": "python",
   "name": "python3"
  },
  "language_info": {
   "codemirror_mode": {
    "name": "ipython",
    "version": 3
   },
   "file_extension": ".py",
   "mimetype": "text/x-python",
   "name": "python",
   "nbconvert_exporter": "python",
   "pygments_lexer": "ipython3",
   "version": "3.9.12"
  }
 },
 "nbformat": 4,
 "nbformat_minor": 5
}
